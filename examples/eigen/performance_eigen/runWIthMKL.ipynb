{
 "cells": [
  {
   "cell_type": "code",
   "execution_count": null,
   "metadata": {},
   "outputs": [],
   "source": [
    "import os\n",
    "pwd = os.getcwd()\n",
    "\n",
    "blaspp_source = \"/home/weslleyp/storage/blaspp\"\n",
    "lapackpp_source = \"/home/weslleyp/storage/lapackpp\"\n",
    "tlapack_source = \"/home/weslleyp/storage/tlapack\"\n",
    "\n",
    "tlapack_DIR = pwd+\"/tlapack\"\n",
    "tlapackMKL_DIR = pwd+\"/tlapack_mkl\"\n",
    "blaspp_DIR = pwd+\"/blaspp\"\n",
    "lapackpp_DIR = pwd+\"/lapackpp\"\n",
    "eigen3_DIR = \"/home/weslleyp/storage/eigen/eigen_master/share/eigen3/cmake\"\n",
    "\n",
    "from datetime import datetime\n",
    "from decimal import Decimal\n",
    "seed = datetime.now().timestamp()\n",
    "seed = seed - int(seed)\n",
    "seed = 1000*seed\n",
    "seed = int(seed)\n",
    "\n",
    "seed = 604\n",
    "matrix_type = 54\n",
    "\n",
    "import random\n",
    "random.seed(seed)\n",
    "\n",
    "import numpy as np\n",
    "import matplotlib.pyplot as plt\n",
    "import matplotlib\n",
    "from IPython.display import display, Math"
   ]
  },
  {
   "cell_type": "code",
   "execution_count": null,
   "metadata": {},
   "outputs": [],
   "source": [
    "seed"
   ]
  },
  {
   "cell_type": "code",
   "execution_count": null,
   "metadata": {},
   "outputs": [],
   "source": [
    "# System:\n",
    "!uname -a"
   ]
  },
  {
   "cell_type": "code",
   "execution_count": null,
   "metadata": {},
   "outputs": [],
   "source": [
    "# Machine:\n",
    "!lscpu"
   ]
  },
  {
   "cell_type": "code",
   "execution_count": null,
   "metadata": {},
   "outputs": [],
   "source": [
    "# Eigen version:\n",
    "!cat \"$eigen3_DIR/Eigen3ConfigVersion.cmake\" | grep \"set(PACKAGE_VERSION \\\"\""
   ]
  },
  {
   "cell_type": "code",
   "execution_count": null,
   "metadata": {},
   "outputs": [],
   "source": [
    "# Eigen version:\n",
    "!cat /usr/local/lib/cmake/mdspan/mdspanConfigVersion.cmake | grep \"set(PACKAGE_VERSION \\\"\""
   ]
  },
  {
   "cell_type": "code",
   "execution_count": null,
   "metadata": {},
   "outputs": [],
   "source": [
    "# MKL version:\n",
    "!which mkl_link_tool"
   ]
  },
  {
   "cell_type": "code",
   "execution_count": null,
   "metadata": {},
   "outputs": [],
   "source": [
    "!ls $eigen3_DIR"
   ]
  },
  {
   "cell_type": "code",
   "execution_count": null,
   "metadata": {},
   "outputs": [],
   "source": [
    "#Build without MKL\n",
    "\n",
    "# Install <T>LAPACK\n",
    "!cmake -B \"$tlapack_DIR\" -G Ninja -D CMAKE_BUILD_TYPE=Release -D BUILD_EXAMPLES=OFF -D BUILD_TESTING=OFF -D TLAPACK_NDEBUG=ON -D CMAKE_INSTALL_PREFIX=\"$tlapack_DIR\" -D CMAKE_INSTALL_MESSAGE=\"LAZY\" \"$tlapack_source\"\n",
    "!cmake --build \"$tlapack_DIR\" --target install\n",
    "\n",
    "# Build\n",
    "!cmake -B build -G Ninja -D CMAKE_BUILD_TYPE=Release -D Eigen3_DIR=\"$eigen3_DIR\" -D CMAKE_PREFIX_PATH=\".\"\n",
    "!cmake --build build"
   ]
  },
  {
   "cell_type": "code",
   "execution_count": null,
   "metadata": {},
   "outputs": [],
   "source": [
    "!./build/performance_eigen 100 1 1 {matrix_type} {seed}"
   ]
  },
  {
   "cell_type": "code",
   "execution_count": null,
   "metadata": {},
   "outputs": [],
   "source": [
    "!./build/performance_tlapack 100 1 1 {matrix_type} {seed}"
   ]
  },
  {
   "cell_type": "code",
   "execution_count": null,
   "metadata": {},
   "outputs": [],
   "source": [
    "#Build with MKL\n",
    "\n",
    "# Install BLAS++\n",
    "!cmake -B \"$blaspp_DIR\" -G Ninja -D CMAKE_BUILD_TYPE=Release -D build_tests=OFF -D CMAKE_INSTALL_PREFIX=\"$blaspp_DIR\" -D CMAKE_INSTALL_MESSAGE=\"LAZY\" \"$blaspp_source\"\n",
    "!cmake --build \"$blaspp_DIR\" --target install\n",
    "\n",
    "# Install LAPACK++\n",
    "!cmake -B \"$lapackpp_DIR\" -G Ninja -D CMAKE_BUILD_TYPE=Release -D build_tests=OFF -D CMAKE_INSTALL_PREFIX=\"$lapackpp_DIR\" -D CMAKE_INSTALL_MESSAGE=\"LAZY\" -D blaspp_DIR=\"$blaspp_DIR\" \"$lapackpp_source\"\n",
    "!cmake --build \"$lapackpp_DIR\" --target install\n",
    "\n",
    "# Install <T>LAPACK\n",
    "!cmake -B \"$tlapackMKL_DIR\" -G Ninja -D CMAKE_BUILD_TYPE=Release -D BUILD_EXAMPLES=OFF -D BUILD_TESTING=OFF -D TLAPACK_NDEBUG=ON -D CMAKE_INSTALL_PREFIX=\"$tlapackMKL_DIR\" -D CMAKE_INSTALL_MESSAGE=\"LAZY\" -D TLAPACK_USE_LAPACKPP=ON -D blaspp_DIR=\"$blaspp_DIR\" -D lapackpp_DIR=\"$lapackpp_DIR\" \"$tlapack_source\"\n",
    "!cmake --build \"$tlapackMKL_DIR\" --target install\n",
    "\n",
    "# Build\n",
    "!cmake -B build_mkl -G Ninja -D CMAKE_BUILD_TYPE=Release -D tlapack_DIR=\"$tlapackMKL_DIR\" -D blaspp_DIR=\"$blaspp_DIR\" -D lapackpp_DIR=\"$lapackpp_DIR\" -D USE_MKL=ON -D Eigen3_DIR=\"$eigen3_DIR\"\n",
    "!cmake --build build_mkl"
   ]
  },
  {
   "cell_type": "code",
   "execution_count": null,
   "metadata": {},
   "outputs": [],
   "source": [
    "!./build_mkl/performance_eigen 500 1 1 {matrix_type} {seed}"
   ]
  },
  {
   "cell_type": "code",
   "execution_count": null,
   "metadata": {},
   "outputs": [],
   "source": [
    "!./build_mkl/performance_eigen_blasMKL 500 1 1 {matrix_type} {seed}"
   ]
  },
  {
   "cell_type": "code",
   "execution_count": null,
   "metadata": {},
   "outputs": [],
   "source": [
    "!./build_mkl/performance_tlapack 500 1 1 {matrix_type} {seed}"
   ]
  },
  {
   "cell_type": "code",
   "execution_count": null,
   "metadata": {},
   "outputs": [],
   "source": [
    "nSizes = [10, 25, 50, 100, 200, 400, 800, 1600]\n",
    "N = len(nSizes)\n",
    "\n",
    "datatypes = [\"float\",\"double\"]\n",
    "NT = len(datatypes)\n",
    "\n",
    "nRuns = 3\n",
    "\n",
    "executable = [\n",
    "    \"build/performance_tlapack\",\n",
    "    \"build/performance_eigen\"\n",
    "]\n",
    "methods = [\n",
    "    r\"<T>LAPACK - C++\",\n",
    "    r\"Eigen3 - C++\"\n",
    "]\n",
    "M = len(executable)"
   ]
  },
  {
   "cell_type": "code",
   "execution_count": null,
   "metadata": {},
   "outputs": [],
   "source": [
    "data = np.ones([M,N,NT], dtype=np.float64) * 60 * 60 * 24\n",
    "\n",
    "for s in range(M):\n",
    "    for i in range(N):\n",
    "        n = nSizes[i]\n",
    "        for j in range(nRuns):\n",
    "            expr = executable[s]\n",
    "            output = !$expr {n} 0 0 {matrix_type} {seed} | grep time\n",
    "            for k in range(NT):\n",
    "                data[s,i,k] = np.minimum( float(output[k].split()[2]), data[s,i,k] )"
   ]
  },
  {
   "cell_type": "code",
   "execution_count": null,
   "metadata": {},
   "outputs": [],
   "source": [
    "data"
   ]
  },
  {
   "cell_type": "code",
   "execution_count": null,
   "metadata": {},
   "outputs": [],
   "source": [
    "markers = ['x-','*-','+-']\n",
    "plt.rcParams['font.size'] = 12\n",
    "\n",
    "for datatype in range(NT):\n",
    "    print(datatypes[datatype])\n",
    "\n",
    "    fig1, ax1 = plt.subplots()\n",
    "\n",
    "    for m in range(M):\n",
    "        plt.plot(nSizes,data[m,:,datatype],markers[m%3],label=methods[m])\n",
    "\n",
    "    ax1.set_xscale(\"log\")\n",
    "    ax1.set_yscale(\"log\")\n",
    "    ax1.set_xticks(nSizes)\n",
    "    ax1.get_xaxis().set_major_formatter(matplotlib.ticker.ScalarFormatter())\n",
    "\n",
    "    plt.xlabel(\"n\")\n",
    "    plt.ylabel(\"time (s)\")\n",
    "    plt.legend()\n",
    "\n",
    "    plt.tight_layout()\n",
    "    plt.savefig(\"curvesWithNoMKL_\"+datatypes[datatype]+\".pdf\")\n",
    "    plt.show()"
   ]
  },
  {
   "cell_type": "code",
   "execution_count": null,
   "metadata": {},
   "outputs": [],
   "source": [
    "nSizes = [10, 25, 50, 100, 200, 400, 800, 1600]\n",
    "N = len(nSizes)\n",
    "\n",
    "datatypes = [\"float\",\"double\"]\n",
    "NT = len(datatypes)\n",
    "\n",
    "nRuns = 3\n",
    "\n",
    "executable = [\n",
    "    \"build_mkl/performance_tlapack\",\n",
    "    \"build_mkl/performance_eigen\",\n",
    "    \"build_mkl/performance_eigen_blasMKL\"\n",
    "]\n",
    "methods = [\n",
    "    r\"<T>LAPACK using MKL BLAS\",\n",
    "    r\"MKL gees (Eigen3 wrapper)\",\n",
    "    r\"Eigen3 using MKL BLAS\"\n",
    "]\n",
    "M = len(executable)"
   ]
  },
  {
   "cell_type": "code",
   "execution_count": null,
   "metadata": {},
   "outputs": [],
   "source": [
    "data_mkl = np.ones([M,N,NT], dtype=np.float64) * 60 * 60 * 24\n",
    "\n",
    "for s in range(M):\n",
    "    for i in range(N):\n",
    "        n = nSizes[i]\n",
    "        for j in range(nRuns):\n",
    "            expr = executable[s]\n",
    "            output = !$expr {n} 0 0 {matrix_type} {seed} | grep time\n",
    "            for k in range(NT):\n",
    "                data_mkl[s,i,k] = np.minimum( float(output[k].split()[2]), data_mkl[s,i,k] )"
   ]
  },
  {
   "cell_type": "code",
   "execution_count": null,
   "metadata": {},
   "outputs": [],
   "source": [
    "markers = ['x-','*-','+-']\n",
    "plt.rcParams['font.size'] = 12\n",
    "\n",
    "for datatype in range(NT):\n",
    "    print(datatypes[datatype])\n",
    "\n",
    "    fig1, ax1 = plt.subplots()\n",
    "\n",
    "    for m in range(M):\n",
    "        plt.plot(nSizes,data_mkl[m,:,datatype],markers[m%3],label=methods[m])\n",
    "\n",
    "    ax1.set_xscale(\"log\")\n",
    "    ax1.set_yscale(\"log\")\n",
    "    ax1.set_xticks(nSizes)\n",
    "    ax1.get_xaxis().set_major_formatter(matplotlib.ticker.ScalarFormatter())\n",
    "\n",
    "    plt.xlabel(\"n\")\n",
    "    plt.ylabel(\"time (s)\")\n",
    "    plt.legend()\n",
    "\n",
    "    plt.tight_layout()\n",
    "    plt.savefig(\"curvesWithMKL_\"+datatypes[datatype]+\".pdf\")\n",
    "    plt.show()"
   ]
  },
  {
   "cell_type": "code",
   "execution_count": null,
   "metadata": {},
   "outputs": [],
   "source": [
    "markers = ['x-','*-','+-']\n",
    "plt.rcParams['font.size'] = 12\n",
    "\n",
    "methods = [\n",
    "    r\"Eigen3 - C++\",\n",
    "    r\"<T>LAPACK - C++\",\n",
    "    r\"Eigen3 using MKL BLAS\",\n",
    "    r\"<T>LAPACK using MKL BLAS\",\n",
    "    r\"MKL gees (Eigen3 wrapper)\"\n",
    "]\n",
    "\n",
    "for datatype in range(NT):\n",
    "    print(datatypes[datatype])\n",
    "\n",
    "    fig1, ax1 = plt.subplots()\n",
    "    \n",
    "    plt.plot(\n",
    "        nSizes,\n",
    "        np.divide( data[1,:,datatype], data[1,:,datatype] ),\n",
    "        '--',\n",
    "        label = methods[0])\n",
    "    plt.plot(\n",
    "        nSizes,\n",
    "        np.divide( data[1,:,datatype], data[0,:,datatype] ),\n",
    "        markers[1],\n",
    "        label = methods[1])\n",
    "    plt.plot(\n",
    "        nSizes,\n",
    "        np.divide( data[1,:,datatype], data_mkl[2,:,datatype] ),\n",
    "        markers[0],\n",
    "        label = methods[2])\n",
    "    plt.plot(\n",
    "        nSizes,\n",
    "        np.divide( data[1,:,datatype], data_mkl[0,:,datatype] ),\n",
    "        markers[1],\n",
    "        label = methods[3])\n",
    "    plt.plot(\n",
    "        nSizes,\n",
    "        np.divide( data[1,:,datatype], data_mkl[1,:,datatype] ),\n",
    "        markers[0],\n",
    "        label = methods[4])\n",
    "\n",
    "    ax1.set_xscale(\"log\")\n",
    "    # ax1.set_yscale(\"log\")\n",
    "    ax1.set_xticks(nSizes)\n",
    "    ax1.get_xaxis().set_major_formatter(matplotlib.ticker.ScalarFormatter())\n",
    "\n",
    "    plt.xlabel(\"n\")\n",
    "    plt.ylabel(\"Speedup\")\n",
    "    plt.legend()\n",
    "\n",
    "    plt.tight_layout()\n",
    "    plt.savefig(\"speedup_\"+datatypes[datatype]+\".pdf\")\n",
    "    plt.show()"
   ]
  },
  {
   "cell_type": "markdown",
   "metadata": {},
   "source": [
    "# Backward stability analysis"
   ]
  },
  {
   "cell_type": "code",
   "execution_count": null,
   "metadata": {},
   "outputs": [],
   "source": [
    "nSizes = [10, 25, 50, 100, 200, 400, 800, 1600]\n",
    "N = len(nSizes)\n",
    "\n",
    "datatypes = [\"float\",\"double\"]\n",
    "NT = len(datatypes)\n",
    "\n",
    "executable = [\n",
    "    \"build/performance_tlapack\",\n",
    "    \"build/performance_eigen\"\n",
    "]\n",
    "M = len(executable)\n",
    "\n",
    "methods = [\n",
    "    r\"<T>LAPACK - C++\",\n",
    "    r\"Eigen3 - C++\"\n",
    "]\n",
    "\n",
    "errors = [\n",
    "    [\n",
    "        r\"$\\|Z^H Z - I\\|/\\|I\\|$\",\n",
    "        r\"$\\|Z Z^H - I\\|/\\|I\\|$\", \n",
    "        r\"$\\|Z T Z^H - A\\|/\\|A\\|$\" #,\n",
    "        # r\"$\\|Q^H Q - I\\|/\\|I\\|$\",\n",
    "        # r\"$\\|Q Q^H - I\\|/\\|I\\|$\"\n",
    "    ],\n",
    "    [\n",
    "        r\"$\\|Z^H Z - I\\|/\\|I\\|$\",\n",
    "        r\"$\\|Z Z^H - I\\|/\\|I\\|$\",\n",
    "        r\"$\\|Z T Z^H - A\\|/\\|A\\|$\"\n",
    "        # r\"$\\|V \\Lambda - A V\\|/(\\|A\\| \\|V\\|)$\",\n",
    "        # r\"$\\|V \\Lambda V^{-1} - A\\|/\\|A\\|$\"\n",
    "    ]\n",
    "]\n",
    "NE = 6"
   ]
  },
  {
   "cell_type": "code",
   "execution_count": null,
   "metadata": {},
   "outputs": [],
   "source": [
    "data_bwError = np.ones([M,N,NT,NE], dtype=np.float64)\n",
    "\n",
    "for s in range(M):\n",
    "    for i in range(N):\n",
    "        n = nSizes[i]\n",
    "        expr = executable[s]\n",
    "        output = !$expr {n} 0 1 {matrix_type} {seed} | grep \"||\"\n",
    "        # print(output)\n",
    "        for k in range(NT):\n",
    "            for j in range( len(errors[s]) ):\n",
    "                try:\n",
    "                    data_bwError[s,i,k,j] = float(output[k*len(errors[s])+j].split()[-1])\n",
    "                except Exception:\n",
    "                    data_bwError[s,i,k,j] = float(\"nan\")"
   ]
  },
  {
   "cell_type": "code",
   "execution_count": null,
   "metadata": {},
   "outputs": [],
   "source": [
    "markers = ['x-','*-','+-']\n",
    "plt.rcParams['font.size'] = 12\n",
    "\n",
    "for datatype in range(NT):\n",
    "    for m in range(M):\n",
    "        fig1, ax1 = plt.subplots()\n",
    "        \n",
    "        print(datatypes[datatype])\n",
    "        print(methods[m])\n",
    "\n",
    "        for i in range( len(errors[m]) ):\n",
    "            plt.plot(nSizes,data_bwError[m,:,datatype,i],markers[i % 3],label=errors[m][i])\n",
    "\n",
    "        ax1.set_xscale(\"log\")\n",
    "        # ax1.set_yscale(\"log\")\n",
    "        ax1.set_xticks(nSizes)\n",
    "        ax1.get_xaxis().set_major_formatter(matplotlib.ticker.ScalarFormatter())\n",
    "\n",
    "        plt.xlabel(\"n\")\n",
    "        plt.ylabel(\"Relative error\")\n",
    "        plt.legend()\n",
    "\n",
    "        plt.tight_layout()\n",
    "        plt.savefig(\"error_\"+datatypes[datatype]+\"_\"+methods[m]+\".pdf\")\n",
    "        plt.show()"
   ]
  },
  {
   "cell_type": "markdown",
   "metadata": {},
   "source": [
    "# Testing with mdspan"
   ]
  },
  {
   "cell_type": "code",
   "execution_count": null,
   "metadata": {},
   "outputs": [],
   "source": [
    "# Build without MKL\n",
    "!cmake -B build_mdspan -G Ninja -D CMAKE_BUILD_TYPE=Release -D CMAKE_PREFIX_PATH=\".\" -D USE_MDSPAN_DATA=ON\n",
    "!cmake --build build_mdspan --target performance_tlapack\n",
    "\n",
    "# Build with MKL\n",
    "!cmake -B build_mkl_mdspan -G Ninja -D CMAKE_BUILD_TYPE=Release -D tlapack_DIR=\"$tlapackMKL_DIR\" -D blaspp_DIR=\"$blaspp_DIR\" -D lapackpp_DIR=\"$lapackpp_DIR\" -D USE_MKL=ON -D USE_MDSPAN_DATA=ON\n",
    "!cmake --build build_mkl_mdspan --target performance_tlapack"
   ]
  },
  {
   "cell_type": "code",
   "execution_count": null,
   "metadata": {},
   "outputs": [],
   "source": [
    "nSizes = [10, 25, 50, 100, 200, 400, 800, 1600]\n",
    "N = len(nSizes)\n",
    "\n",
    "datatypes = [\"float\",\"double\"]\n",
    "NT = len(datatypes)\n",
    "\n",
    "nRuns = 3"
   ]
  },
  {
   "cell_type": "code",
   "execution_count": null,
   "metadata": {},
   "outputs": [],
   "source": [
    "data_mdspan = np.ones([N,NT], dtype=np.float64) * 60 * 60 * 24\n",
    "\n",
    "executable = \"build_mdspan/performance_tlapack\"\n",
    "for i in range(N):\n",
    "    n = nSizes[i]\n",
    "    for j in range(nRuns):\n",
    "        output = !$executable {n} 0 0 {matrix_type} {seed} | grep time\n",
    "        for k in range(NT):\n",
    "            data_mdspan[i,k] = np.minimum( float(output[k].split()[2]), data_mdspan[i,k] )"
   ]
  },
  {
   "cell_type": "code",
   "execution_count": null,
   "metadata": {},
   "outputs": [],
   "source": [
    "data_mkl_mdspan = np.ones([N,NT], dtype=np.float64) * 60 * 60 * 24\n",
    "\n",
    "executable = \"build_mkl_mdspan/performance_tlapack\"\n",
    "for i in range(N):\n",
    "    n = nSizes[i]\n",
    "    for j in range(nRuns):\n",
    "        output = !$executable {n} 0 0 {matrix_type} {seed} | grep time\n",
    "        for k in range(NT):\n",
    "            data_mkl_mdspan[i,k] = np.minimum( float(output[k].split()[2]), data_mkl_mdspan[i,k] )"
   ]
  },
  {
   "cell_type": "code",
   "execution_count": null,
   "metadata": {},
   "outputs": [],
   "source": [
    "data_mdspan"
   ]
  },
  {
   "cell_type": "code",
   "execution_count": null,
   "metadata": {},
   "outputs": [],
   "source": [
    "data_mkl_mdspan"
   ]
  },
  {
   "cell_type": "code",
   "execution_count": null,
   "metadata": {},
   "outputs": [],
   "source": [
    "markers = ['x-','*-','+-']\n",
    "plt.rcParams['font.size'] = 12\n",
    "\n",
    "for datatype in range(NT):\n",
    "    print(datatypes[datatype])\n",
    "\n",
    "    fig1, ax1 = plt.subplots()\n",
    "\n",
    "    plt.plot(nSizes,data[0,:,datatype],markers[0],label=r\"Eigen::Matrix\")\n",
    "    plt.plot(nSizes,data_mdspan[:,datatype],markers[1],label=r\"kokkos::mdspan\")\n",
    "\n",
    "    plt.plot(nSizes,data_mkl[0,:,datatype],markers[0],label=r\"Eigen::Matrix (MKL BLAS)\")\n",
    "    plt.plot(nSizes,data_mkl_mdspan[:,datatype],markers[1],label=r\"kokkos::mdspan (MKL BLAS)\")\n",
    "\n",
    "    ax1.set_xscale(\"log\")\n",
    "    ax1.set_yscale(\"log\")\n",
    "    ax1.set_xticks(nSizes)\n",
    "    ax1.get_xaxis().set_major_formatter(matplotlib.ticker.ScalarFormatter())\n",
    "\n",
    "    plt.xlabel(\"n\")\n",
    "    plt.ylabel(\"time (s)\")\n",
    "    plt.legend()\n",
    "\n",
    "    plt.tight_layout()\n",
    "    plt.savefig(\"curves_mdspan_\"+datatypes[datatype]+\".pdf\")\n",
    "    plt.show()\n",
    "\n",
    "    fig1, ax1 = plt.subplots()\n",
    "\n",
    "    plt.plot(nSizes,np.divide(data[0,:,datatype],data_mdspan[:,datatype]),markers[1],label=r\"C++ only\")\n",
    "    plt.plot(nSizes,np.divide(data_mkl[0,:,datatype],data_mkl_mdspan[:,datatype]),markers[1],label=r\"Using MKL BLAS\")\n",
    "\n",
    "    ax1.set_xscale(\"log\")\n",
    "    # ax1.set_yscale(\"log\")\n",
    "    ax1.set_xticks(nSizes)\n",
    "    ax1.get_xaxis().set_major_formatter(matplotlib.ticker.ScalarFormatter())\n",
    "\n",
    "    plt.xlabel(\"n\")\n",
    "    plt.ylabel(\"Speedup\")\n",
    "    plt.legend()\n",
    "\n",
    "    plt.tight_layout()\n",
    "    plt.savefig(\"speedup_mdspan_\"+datatypes[datatype]+\".pdf\")\n",
    "    plt.show()"
   ]
  }
 ],
 "metadata": {
  "kernelspec": {
   "display_name": "Python 3 (ipykernel)",
   "language": "python",
   "name": "python3"
  },
  "language_info": {
   "codemirror_mode": {
    "name": "ipython",
    "version": 3
   },
   "file_extension": ".py",
   "mimetype": "text/x-python",
   "name": "python",
   "nbconvert_exporter": "python",
   "pygments_lexer": "ipython3",
   "version": "3.8.10 (default, Nov 14 2022, 12:59:47) \n[GCC 9.4.0]"
  },
  "vscode": {
   "interpreter": {
    "hash": "31f2aee4e71d21fbe5cf8b01ff0e069b9275f58929596ceb00d14d90e3e16cd6"
   }
  }
 },
 "nbformat": 4,
 "nbformat_minor": 2
}
